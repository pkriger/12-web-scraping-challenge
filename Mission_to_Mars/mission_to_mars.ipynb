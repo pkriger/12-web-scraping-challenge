{
 "cells": [
  {
   "cell_type": "code",
   "execution_count": 1,
   "id": "golden-stationery",
   "metadata": {},
   "outputs": [],
   "source": [
    "# Dependencies\n",
    "from splinter import Browser\n",
    "from bs4 import BeautifulSoup\n",
    "from webdriver_manager.chrome import ChromeDriverManager\n",
    "import pandas as pd"
   ]
  },
  {
   "cell_type": "markdown",
   "id": "skilled-retreat",
   "metadata": {},
   "source": [
    "# NASA Mars News"
   ]
  },
  {
   "cell_type": "code",
   "execution_count": 164,
   "id": "hungry-mobile",
   "metadata": {},
   "outputs": [
    {
     "name": "stderr",
     "output_type": "stream",
     "text": [
      "\n",
      "\n",
      "====== WebDriver manager ======\n",
      "Current google-chrome version is 90.0.4430\n",
      "Get LATEST driver version for 90.0.4430\n",
      "Driver [C:\\Users\\Pearl\\.wdm\\drivers\\chromedriver\\win32\\90.0.4430.24\\chromedriver.exe] found in cache\n"
     ]
    }
   ],
   "source": [
    "# URL of page to be scraped\n",
    "executable_path = {'executable_path': ChromeDriverManager().install()}\n",
    "browser = Browser('chrome', **executable_path, headless=False)\n"
   ]
  },
  {
   "cell_type": "code",
   "execution_count": 165,
   "id": "compact-connection",
   "metadata": {},
   "outputs": [],
   "source": [
    "url = \"https://redplanetscience.com/\"\n",
    "browser.visit(url)"
   ]
  },
  {
   "cell_type": "code",
   "execution_count": 166,
   "id": "lightweight-train",
   "metadata": {},
   "outputs": [
    {
     "name": "stdout",
     "output_type": "stream",
     "text": [
      "Join NASA for the Launch of the Mars 2020 Perseverance Rover\n",
      "No matter where you live, choose from a menu of activities to join NASA as we \"Countdown to Mars\" and launch the Perseverance rover to the Red Planet.\n"
     ]
    }
   ],
   "source": [
    "# Retrieve page with the requests module\n",
    "\n",
    "html = browser.html\n",
    "soup = BeautifulSoup(html, 'html.parser')\n",
    "\n",
    "news_title = soup.find('div', class_='content_title')\n",
    "news_p = soup.find('div', class_='article_teaser_body')\n",
    "    \n",
    "print(news_title.text)\n",
    "print(news_p.text)\n",
    "\n"
   ]
  },
  {
   "cell_type": "markdown",
   "id": "stretch-metallic",
   "metadata": {},
   "source": [
    "# JPL Mars Space Images - Featured Image"
   ]
  },
  {
   "cell_type": "code",
   "execution_count": 28,
   "id": "favorite-creek",
   "metadata": {},
   "outputs": [
    {
     "name": "stderr",
     "output_type": "stream",
     "text": [
      "\n",
      "\n",
      "====== WebDriver manager ======\n",
      "Current google-chrome version is 90.0.4430\n",
      "Get LATEST driver version for 90.0.4430\n",
      "Driver [C:\\Users\\Pearl\\.wdm\\drivers\\chromedriver\\win32\\90.0.4430.24\\chromedriver.exe] found in cache\n"
     ]
    }
   ],
   "source": [
    "executable_path = {'executable_path': ChromeDriverManager().install()}\n",
    "browser = Browser('chrome', **executable_path, headless=False)\n",
    "url = 'https://spaceimages-mars.com'\n",
    "browser.visit(url)   "
   ]
  },
  {
   "cell_type": "code",
   "execution_count": 6,
   "id": "ordered-conducting",
   "metadata": {},
   "outputs": [
    {
     "name": "stdout",
     "output_type": "stream",
     "text": [
      "https://spaceimages-mars.com/image/featured/mars2.jpg\n"
     ]
    }
   ],
   "source": [
    "html = browser.html\n",
    "soup = BeautifulSoup(html, 'html.parser')\n",
    "\n",
    "div = soup.find('div', class_=\"floating_text_area\")\n",
    "\n",
    "link = div.find('a')\n",
    "href = link['href']\n",
    "\n",
    "featured_image_url= f\"{url}/{href}\"\n",
    "print(featured_image_url)"
   ]
  },
  {
   "cell_type": "markdown",
   "id": "accurate-reader",
   "metadata": {},
   "source": [
    "# Mars Facts\n",
    "\n",
    "Visit the Mars Facts webpage here and use Pandas to scrape the table containing facts about the planet including Diameter, Mass, etc.\n",
    "\n",
    "Use Pandas to convert the data to a HTML table string."
   ]
  },
  {
   "cell_type": "code",
   "execution_count": 7,
   "id": "wireless-audio",
   "metadata": {},
   "outputs": [
    {
     "name": "stderr",
     "output_type": "stream",
     "text": [
      "\n",
      "\n",
      "====== WebDriver manager ======\n",
      "Current google-chrome version is 90.0.4430\n",
      "Get LATEST driver version for 90.0.4430\n",
      "Driver [C:\\Users\\Pearl\\.wdm\\drivers\\chromedriver\\win32\\90.0.4430.24\\chromedriver.exe] found in cache\n"
     ]
    }
   ],
   "source": [
    "executable_path = {'executable_path': ChromeDriverManager().install()}\n",
    "browser = Browser('chrome', **executable_path, headless=False)\n",
    "url = 'https://galaxyfacts-mars.com/'\n",
    "browser.visit(url)   "
   ]
  },
  {
   "cell_type": "code",
   "execution_count": 8,
   "id": "express-edward",
   "metadata": {},
   "outputs": [],
   "source": [
    "tables = pd.read_html(url)"
   ]
  },
  {
   "cell_type": "code",
   "execution_count": 18,
   "id": "foster-stake",
   "metadata": {},
   "outputs": [
    {
     "data": {
      "text/html": [
       "<div>\n",
       "<style scoped>\n",
       "    .dataframe tbody tr th:only-of-type {\n",
       "        vertical-align: middle;\n",
       "    }\n",
       "\n",
       "    .dataframe tbody tr th {\n",
       "        vertical-align: top;\n",
       "    }\n",
       "\n",
       "    .dataframe thead tr th {\n",
       "        text-align: left;\n",
       "    }\n",
       "</style>\n",
       "<table border=\"1\" class=\"dataframe\">\n",
       "  <thead>\n",
       "    <tr>\n",
       "      <th></th>\n",
       "      <th>Category</th>\n",
       "      <th>Mars Value</th>\n",
       "    </tr>\n",
       "  </thead>\n",
       "  <tbody>\n",
       "    <tr>\n",
       "      <th>0</th>\n",
       "      <td>Mars - Earth Comparison</td>\n",
       "      <td>Mars</td>\n",
       "    </tr>\n",
       "    <tr>\n",
       "      <th>1</th>\n",
       "      <td>Diameter:</td>\n",
       "      <td>6,779 km</td>\n",
       "    </tr>\n",
       "    <tr>\n",
       "      <th>2</th>\n",
       "      <td>Mass:</td>\n",
       "      <td>6.39 × 10^23 kg</td>\n",
       "    </tr>\n",
       "    <tr>\n",
       "      <th>3</th>\n",
       "      <td>Moons:</td>\n",
       "      <td>2</td>\n",
       "    </tr>\n",
       "    <tr>\n",
       "      <th>4</th>\n",
       "      <td>Distance from Sun:</td>\n",
       "      <td>227,943,824 km</td>\n",
       "    </tr>\n",
       "    <tr>\n",
       "      <th>5</th>\n",
       "      <td>Length of Year:</td>\n",
       "      <td>687 Earth days</td>\n",
       "    </tr>\n",
       "    <tr>\n",
       "      <th>6</th>\n",
       "      <td>Temperature:</td>\n",
       "      <td>-87 to -5 °C</td>\n",
       "    </tr>\n",
       "  </tbody>\n",
       "</table>\n",
       "</div>"
      ],
      "text/plain": [
       "                  Category       Mars Value\n",
       "0  Mars - Earth Comparison             Mars\n",
       "1                Diameter:         6,779 km\n",
       "2                    Mass:  6.39 × 10^23 kg\n",
       "3                   Moons:                2\n",
       "4       Distance from Sun:   227,943,824 km\n",
       "5          Length of Year:   687 Earth days\n",
       "6             Temperature:     -87 to -5 °C"
      ]
     },
     "execution_count": 18,
     "metadata": {},
     "output_type": "execute_result"
    }
   ],
   "source": [
    "mars_facts_df= tables[0]\n",
    "mars_facts_df.columns = [['Category', 'Mars Value', 'Earth Value']]\n",
    "del mars_facts_df['Earth Value']\n",
    "mars_facts_df"
   ]
  },
  {
   "cell_type": "code",
   "execution_count": 19,
   "id": "departmental-continent",
   "metadata": {},
   "outputs": [
    {
     "data": {
      "text/plain": [
       "'<table border=\"1\" class=\"dataframe\">\\n  <thead>\\n    <tr>\\n      <th></th>\\n      <th>Category</th>\\n      <th>Mars Value</th>\\n    </tr>\\n  </thead>\\n  <tbody>\\n    <tr>\\n      <th>0</th>\\n      <td>Mars - Earth Comparison</td>\\n      <td>Mars</td>\\n    </tr>\\n    <tr>\\n      <th>1</th>\\n      <td>Diameter:</td>\\n      <td>6,779 km</td>\\n    </tr>\\n    <tr>\\n      <th>2</th>\\n      <td>Mass:</td>\\n      <td>6.39 × 10^23 kg</td>\\n    </tr>\\n    <tr>\\n      <th>3</th>\\n      <td>Moons:</td>\\n      <td>2</td>\\n    </tr>\\n    <tr>\\n      <th>4</th>\\n      <td>Distance from Sun:</td>\\n      <td>227,943,824 km</td>\\n    </tr>\\n    <tr>\\n      <th>5</th>\\n      <td>Length of Year:</td>\\n      <td>687 Earth days</td>\\n    </tr>\\n    <tr>\\n      <th>6</th>\\n      <td>Temperature:</td>\\n      <td>-87 to -5 °C</td>\\n    </tr>\\n  </tbody>\\n</table>'"
      ]
     },
     "execution_count": 19,
     "metadata": {},
     "output_type": "execute_result"
    }
   ],
   "source": [
    "html_table = mars_facts_df.to_html()\n",
    "html_table"
   ]
  },
  {
   "cell_type": "code",
   "execution_count": 156,
   "id": "numerous-ceremony",
   "metadata": {},
   "outputs": [],
   "source": [
    "html_table_string=html_table.replace('\\n', '')"
   ]
  },
  {
   "cell_type": "markdown",
   "id": "southern-valley",
   "metadata": {},
   "source": [
    "# Mars Hemispheres\n",
    "\n",
    "Visit the astrogeology site here to obtain high resolution images for each of Mar's hemispheres.\n",
    "\n",
    "You will need to click each of the links to the hemispheres in order to find the image url to the full resolution image.\n",
    "\n",
    "Save both the image url string for the full resolution hemisphere image, and the Hemisphere title containing the hemisphere name. Use a Python dictionary to store the data using the keys img_url and title.\n",
    "\n",
    "Append the dictionary with the image url string and the hemisphere title to a list. This list will contain one dictionary for each hemisphere."
   ]
  },
  {
   "cell_type": "code",
   "execution_count": 167,
   "id": "tested-rendering",
   "metadata": {},
   "outputs": [
    {
     "name": "stderr",
     "output_type": "stream",
     "text": [
      "\n",
      "\n",
      "====== WebDriver manager ======\n",
      "Current google-chrome version is 90.0.4430\n",
      "Get LATEST driver version for 90.0.4430\n",
      "Get LATEST driver version for 90.0.4430\n",
      "Trying to download new driver from https://chromedriver.storage.googleapis.com/90.0.4430.24/chromedriver_win32.zip\n",
      "Driver has been saved in cache [C:\\Users\\Pearl\\.wdm\\drivers\\chromedriver\\win32\\90.0.4430.24]\n"
     ]
    }
   ],
   "source": [
    "executable_path = {'executable_path': ChromeDriverManager().install()}\n",
    "browser = Browser('chrome', **executable_path, headless=False)\n",
    "url = 'https://marshemispheres.com/'\n",
    "browser.visit(url)  "
   ]
  },
  {
   "cell_type": "code",
   "execution_count": 80,
   "id": "republican-guatemala",
   "metadata": {},
   "outputs": [],
   "source": [
    "html = browser.html\n",
    "soup = BeautifulSoup(html, 'html.parser')\n",
    "\n",
    "browser.links.find_by_partial_text('Hemisphere').click()"
   ]
  },
  {
   "cell_type": "code",
   "execution_count": 180,
   "id": "proper-handling",
   "metadata": {},
   "outputs": [
    {
     "name": "stdout",
     "output_type": "stream",
     "text": [
      "Cerberus Hemisphere Enhanced\n",
      "https://marshemispheres.com/images/full.jpg\n",
      "Schiaparelli Hemisphere Enhanced\n",
      "https://marshemispheres.com/images/schiaparelli_enhanced-full.jpg\n",
      "Syrtis Major Hemisphere Enhanced\n",
      "https://marshemispheres.com/images/syrtis_major_enhanced-full.jpg\n",
      "Valles Marineris Hemisphere Enhanced\n",
      "https://marshemispheres.com/images/valles_marineris_enhanced-full.jpg\n"
     ]
    }
   ],
   "source": [
    "html = browser.html\n",
    "soup = BeautifulSoup(html, 'html.parser')    \n",
    "hemispheres= soup.find_all('div', class_='collapsible results')\n",
    "items = soup.find_all('div', class_='item')\n",
    "h_titles = []\n",
    "url_things=[]\n",
    "#hemisphere_image_urls = []\n",
    "\n",
    "for item in items:\n",
    "    #h_titles=item.find('h3').text\n",
    "    h3=item.find('h3').text\n",
    "    h_titles.append(h3)\n",
    "    print(h3)\n",
    "    try:\n",
    "        browser.links.find_by_partial_text(h3).click()\n",
    "        html = browser.html\n",
    "        soup = BeautifulSoup(html, 'html.parser')\n",
    "        div = soup.find('div', class_=\"downloads\")\n",
    "        image = div.find('a')\n",
    "        href = image['href']\n",
    "        image_url= f\"{url}{href}\"\n",
    "        url_things.append(image_url)\n",
    "        print(image_url)\n",
    "        #hemisphere_image_urls.append({'title': h_title, 'img_url': image_url})\n",
    "        browser.back()\n",
    "    except:\n",
    "        print('nope')"
   ]
  },
  {
   "cell_type": "code",
   "execution_count": 162,
   "id": "continued-object",
   "metadata": {},
   "outputs": [
    {
     "data": {
      "text/plain": [
       "{'title': ['Cerberus Hemisphere Enhanced',\n",
       "  'Schiaparelli Hemisphere Enhanced',\n",
       "  'Syrtis Major Hemisphere Enhanced',\n",
       "  'Valles Marineris Hemisphere Enhanced'],\n",
       " 'img_url': ['https://marshemispheres.com/images/full.jpg',\n",
       "  'https://marshemispheres.com/images/schiaparelli_enhanced-full.jpg',\n",
       "  'https://marshemispheres.com/images/syrtis_major_enhanced-full.jpg',\n",
       "  'https://marshemispheres.com/images/valles_marineris_enhanced-full.jpg']}"
      ]
     },
     "execution_count": 162,
     "metadata": {},
     "output_type": "execute_result"
    }
   ],
   "source": [
    "hemi_dict={\"title\":h_titles,\n",
    "          \"img_url\":url_things}\n",
    "hemi_dict"
   ]
  },
  {
   "cell_type": "code",
   "execution_count": null,
   "id": "smaller-bacon",
   "metadata": {},
   "outputs": [],
   "source": [
    "\n",
    "    "
   ]
  },
  {
   "cell_type": "code",
   "execution_count": 163,
   "id": "separated-hometown",
   "metadata": {},
   "outputs": [
    {
     "ename": "KeyError",
     "evalue": "1",
     "output_type": "error",
     "traceback": [
      "\u001b[1;31m---------------------------------------------------------------------------\u001b[0m",
      "\u001b[1;31mKeyError\u001b[0m                                  Traceback (most recent call last)",
      "\u001b[1;32m<ipython-input-163-43420503bf75>\u001b[0m in \u001b[0;36m<module>\u001b[1;34m\u001b[0m\n\u001b[1;32m----> 1\u001b[1;33m \u001b[0mhemi_dict\u001b[0m\u001b[1;33m[\u001b[0m\u001b[1;36m1\u001b[0m\u001b[1;33m]\u001b[0m\u001b[1;33m[\u001b[0m\u001b[1;36m1\u001b[0m\u001b[1;33m]\u001b[0m\u001b[1;33m\u001b[0m\u001b[1;33m\u001b[0m\u001b[0m\n\u001b[0m",
      "\u001b[1;31mKeyError\u001b[0m: 1"
     ]
    }
   ],
   "source": [
    "hemi_dict[1][1]"
   ]
  },
  {
   "cell_type": "code",
   "execution_count": null,
   "id": "upset-lunch",
   "metadata": {},
   "outputs": [],
   "source": []
  }
 ],
 "metadata": {
  "kernelspec": {
   "display_name": "Python 3",
   "language": "python",
   "name": "python3"
  },
  "language_info": {
   "codemirror_mode": {
    "name": "ipython",
    "version": 3
   },
   "file_extension": ".py",
   "mimetype": "text/x-python",
   "name": "python",
   "nbconvert_exporter": "python",
   "pygments_lexer": "ipython3",
   "version": "3.6.10"
  }
 },
 "nbformat": 4,
 "nbformat_minor": 5
}
